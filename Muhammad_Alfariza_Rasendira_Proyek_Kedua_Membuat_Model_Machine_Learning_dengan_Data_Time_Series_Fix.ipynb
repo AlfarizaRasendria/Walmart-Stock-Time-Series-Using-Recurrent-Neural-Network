{
  "cells": [
    {
      "cell_type": "markdown",
      "metadata": {
        "id": "jRBVJh7TvjMo"
      },
      "source": [
        "# **Proyek Kedua : Membuat Model Machine Learning dengan Data Time Series**\n",
        "\n",
        "**Nama : Muhammad Alfariza Rasendria**\n",
        "\n",
        "Email : rasendria.alfariza18@gmail.com"
      ]
    },
    {
      "cell_type": "code",
      "execution_count": null,
      "metadata": {
        "id": "Iigjx1TkvakM"
      },
      "outputs": [],
      "source": [
        "import numpy as np\n",
        "import pandas as pd\n",
        "from keras.layers import Dense, LSTM\n",
        "import matplotlib.pyplot as plt\n",
        "import tensorflow as tf"
      ]
    },
    {
      "cell_type": "code",
      "execution_count": null,
      "metadata": {
        "colab": {
          "base_uri": "https://localhost:8080/"
        },
        "id": "4GeX9D9C0Phw",
        "outputId": "58d7d56f-392e-4fb0-cffa-07b8289a10ff"
      },
      "outputs": [
        {
          "name": "stdout",
          "output_type": "stream",
          "text": [
            "Requirement already satisfied: kaggle in /usr/local/lib/python3.10/dist-packages (1.5.16)\n",
            "Requirement already satisfied: six>=1.10 in /usr/local/lib/python3.10/dist-packages (from kaggle) (1.16.0)\n",
            "Requirement already satisfied: certifi in /usr/local/lib/python3.10/dist-packages (from kaggle) (2023.11.17)\n",
            "Requirement already satisfied: python-dateutil in /usr/local/lib/python3.10/dist-packages (from kaggle) (2.8.2)\n",
            "Requirement already satisfied: requests in /usr/local/lib/python3.10/dist-packages (from kaggle) (2.31.0)\n",
            "Requirement already satisfied: tqdm in /usr/local/lib/python3.10/dist-packages (from kaggle) (4.66.1)\n",
            "Requirement already satisfied: python-slugify in /usr/local/lib/python3.10/dist-packages (from kaggle) (8.0.3)\n",
            "Requirement already satisfied: urllib3 in /usr/local/lib/python3.10/dist-packages (from kaggle) (2.0.7)\n",
            "Requirement already satisfied: bleach in /usr/local/lib/python3.10/dist-packages (from kaggle) (6.1.0)\n",
            "Requirement already satisfied: webencodings in /usr/local/lib/python3.10/dist-packages (from bleach->kaggle) (0.5.1)\n",
            "Requirement already satisfied: text-unidecode>=1.3 in /usr/local/lib/python3.10/dist-packages (from python-slugify->kaggle) (1.3)\n",
            "Requirement already satisfied: charset-normalizer<4,>=2 in /usr/local/lib/python3.10/dist-packages (from requests->kaggle) (3.3.2)\n",
            "Requirement already satisfied: idna<4,>=2.5 in /usr/local/lib/python3.10/dist-packages (from requests->kaggle) (3.6)\n"
          ]
        }
      ],
      "source": [
        "!pip install kaggle"
      ]
    },
    {
      "cell_type": "code",
      "execution_count": null,
      "metadata": {
        "colab": {
          "base_uri": "https://localhost:8080/"
        },
        "id": "rExz1E7b0Prj",
        "outputId": "b5566f41-9b15-4ff8-b83d-19795bebee50"
      },
      "outputs": [
        {
          "name": "stdout",
          "output_type": "stream",
          "text": [
            "Drive already mounted at /content/drive; to attempt to forcibly remount, call drive.mount(\"/content/drive\", force_remount=True).\n"
          ]
        }
      ],
      "source": [
        "from google.colab import drive\n",
        "drive.mount('/content/drive')"
      ]
    },
    {
      "cell_type": "code",
      "execution_count": null,
      "metadata": {
        "id": "uGSevG050cV4"
      },
      "outputs": [],
      "source": [
        "import os\n",
        "os.environ['KAGGLE_CONFIG_DIR'] = '/content/drive/MyDrive/Kaggle'"
      ]
    },
    {
      "cell_type": "code",
      "execution_count": null,
      "metadata": {
        "colab": {
          "base_uri": "https://localhost:8080/"
        },
        "id": "xcPi55le0dXt",
        "outputId": "39574da6-6ddf-4ed9-891b-202866445578"
      },
      "outputs": [
        {
          "name": "stdout",
          "output_type": "stream",
          "text": [
            "Downloading walmart-stock-20122016.zip to /content\n",
            "100% 223k/223k [00:00<00:00, 766kB/s]\n",
            "100% 223k/223k [00:00<00:00, 765kB/s]\n"
          ]
        }
      ],
      "source": [
        "!kaggle datasets download -d amandam1/walmart-stock-20122016 --force"
      ]
    },
    {
      "cell_type": "code",
      "execution_count": null,
      "metadata": {
        "id": "022LHdIj0Py0"
      },
      "outputs": [],
      "source": [
        "import zipfile\n",
        "\n",
        "file_path = '/content/walmart-stock-20122016.zip'\n",
        "\n",
        "with zipfile.ZipFile(file_path, 'r') as zip_ref:\n",
        "    zip_ref.extractall('/tmp/')"
      ]
    },
    {
      "cell_type": "code",
      "execution_count": null,
      "metadata": {
        "id": "zQea643J9S88"
      },
      "outputs": [],
      "source": [
        "base_dir = '/tmp'"
      ]
    },
    {
      "cell_type": "code",
      "execution_count": null,
      "metadata": {
        "colab": {
          "base_uri": "https://localhost:8080/",
          "height": 206
        },
        "id": "dvFmTSpE9RCF",
        "outputId": "a4c6d4df-f1e7-49c2-caaf-50404a4672fe"
      },
      "outputs": [
        {
          "data": {
            "text/html": [
              "\n",
              "  <div id=\"df-4bad6428-b8ba-4d03-955d-6926c920b312\" class=\"colab-df-container\">\n",
              "    <div>\n",
              "<style scoped>\n",
              "    .dataframe tbody tr th:only-of-type {\n",
              "        vertical-align: middle;\n",
              "    }\n",
              "\n",
              "    .dataframe tbody tr th {\n",
              "        vertical-align: top;\n",
              "    }\n",
              "\n",
              "    .dataframe thead th {\n",
              "        text-align: right;\n",
              "    }\n",
              "</style>\n",
              "<table border=\"1\" class=\"dataframe\">\n",
              "  <thead>\n",
              "    <tr style=\"text-align: right;\">\n",
              "      <th></th>\n",
              "      <th>Date</th>\n",
              "      <th>Open</th>\n",
              "      <th>High</th>\n",
              "      <th>Low</th>\n",
              "      <th>Close</th>\n",
              "      <th>Adj Close</th>\n",
              "      <th>Volume</th>\n",
              "    </tr>\n",
              "  </thead>\n",
              "  <tbody>\n",
              "    <tr>\n",
              "      <th>0</th>\n",
              "      <td>1972-08-25</td>\n",
              "      <td>0.063477</td>\n",
              "      <td>0.064697</td>\n",
              "      <td>0.063477</td>\n",
              "      <td>0.064453</td>\n",
              "      <td>0.036175</td>\n",
              "      <td>2508800</td>\n",
              "    </tr>\n",
              "    <tr>\n",
              "      <th>1</th>\n",
              "      <td>1972-08-28</td>\n",
              "      <td>0.064453</td>\n",
              "      <td>0.064941</td>\n",
              "      <td>0.064209</td>\n",
              "      <td>0.064209</td>\n",
              "      <td>0.036038</td>\n",
              "      <td>972800</td>\n",
              "    </tr>\n",
              "    <tr>\n",
              "      <th>2</th>\n",
              "      <td>1972-08-29</td>\n",
              "      <td>0.063965</td>\n",
              "      <td>0.063965</td>\n",
              "      <td>0.063477</td>\n",
              "      <td>0.063477</td>\n",
              "      <td>0.035627</td>\n",
              "      <td>1945600</td>\n",
              "    </tr>\n",
              "    <tr>\n",
              "      <th>3</th>\n",
              "      <td>1972-08-30</td>\n",
              "      <td>0.063477</td>\n",
              "      <td>0.063477</td>\n",
              "      <td>0.062988</td>\n",
              "      <td>0.063477</td>\n",
              "      <td>0.035627</td>\n",
              "      <td>409600</td>\n",
              "    </tr>\n",
              "    <tr>\n",
              "      <th>4</th>\n",
              "      <td>1972-08-31</td>\n",
              "      <td>0.062988</td>\n",
              "      <td>0.062988</td>\n",
              "      <td>0.062500</td>\n",
              "      <td>0.062500</td>\n",
              "      <td>0.035079</td>\n",
              "      <td>870400</td>\n",
              "    </tr>\n",
              "  </tbody>\n",
              "</table>\n",
              "</div>\n",
              "    <div class=\"colab-df-buttons\">\n",
              "\n",
              "  <div class=\"colab-df-container\">\n",
              "    <button class=\"colab-df-convert\" onclick=\"convertToInteractive('df-4bad6428-b8ba-4d03-955d-6926c920b312')\"\n",
              "            title=\"Convert this dataframe to an interactive table.\"\n",
              "            style=\"display:none;\">\n",
              "\n",
              "  <svg xmlns=\"http://www.w3.org/2000/svg\" height=\"24px\" viewBox=\"0 -960 960 960\">\n",
              "    <path d=\"M120-120v-720h720v720H120Zm60-500h600v-160H180v160Zm220 220h160v-160H400v160Zm0 220h160v-160H400v160ZM180-400h160v-160H180v160Zm440 0h160v-160H620v160ZM180-180h160v-160H180v160Zm440 0h160v-160H620v160Z\"/>\n",
              "  </svg>\n",
              "    </button>\n",
              "\n",
              "  <style>\n",
              "    .colab-df-container {\n",
              "      display:flex;\n",
              "      gap: 12px;\n",
              "    }\n",
              "\n",
              "    .colab-df-convert {\n",
              "      background-color: #E8F0FE;\n",
              "      border: none;\n",
              "      border-radius: 50%;\n",
              "      cursor: pointer;\n",
              "      display: none;\n",
              "      fill: #1967D2;\n",
              "      height: 32px;\n",
              "      padding: 0 0 0 0;\n",
              "      width: 32px;\n",
              "    }\n",
              "\n",
              "    .colab-df-convert:hover {\n",
              "      background-color: #E2EBFA;\n",
              "      box-shadow: 0px 1px 2px rgba(60, 64, 67, 0.3), 0px 1px 3px 1px rgba(60, 64, 67, 0.15);\n",
              "      fill: #174EA6;\n",
              "    }\n",
              "\n",
              "    .colab-df-buttons div {\n",
              "      margin-bottom: 4px;\n",
              "    }\n",
              "\n",
              "    [theme=dark] .colab-df-convert {\n",
              "      background-color: #3B4455;\n",
              "      fill: #D2E3FC;\n",
              "    }\n",
              "\n",
              "    [theme=dark] .colab-df-convert:hover {\n",
              "      background-color: #434B5C;\n",
              "      box-shadow: 0px 1px 3px 1px rgba(0, 0, 0, 0.15);\n",
              "      filter: drop-shadow(0px 1px 2px rgba(0, 0, 0, 0.3));\n",
              "      fill: #FFFFFF;\n",
              "    }\n",
              "  </style>\n",
              "\n",
              "    <script>\n",
              "      const buttonEl =\n",
              "        document.querySelector('#df-4bad6428-b8ba-4d03-955d-6926c920b312 button.colab-df-convert');\n",
              "      buttonEl.style.display =\n",
              "        google.colab.kernel.accessAllowed ? 'block' : 'none';\n",
              "\n",
              "      async function convertToInteractive(key) {\n",
              "        const element = document.querySelector('#df-4bad6428-b8ba-4d03-955d-6926c920b312');\n",
              "        const dataTable =\n",
              "          await google.colab.kernel.invokeFunction('convertToInteractive',\n",
              "                                                    [key], {});\n",
              "        if (!dataTable) return;\n",
              "\n",
              "        const docLinkHtml = 'Like what you see? Visit the ' +\n",
              "          '<a target=\"_blank\" href=https://colab.research.google.com/notebooks/data_table.ipynb>data table notebook</a>'\n",
              "          + ' to learn more about interactive tables.';\n",
              "        element.innerHTML = '';\n",
              "        dataTable['output_type'] = 'display_data';\n",
              "        await google.colab.output.renderOutput(dataTable, element);\n",
              "        const docLink = document.createElement('div');\n",
              "        docLink.innerHTML = docLinkHtml;\n",
              "        element.appendChild(docLink);\n",
              "      }\n",
              "    </script>\n",
              "  </div>\n",
              "\n",
              "\n",
              "<div id=\"df-51ae0de6-b943-4268-9f08-7b8e778fa34d\">\n",
              "  <button class=\"colab-df-quickchart\" onclick=\"quickchart('df-51ae0de6-b943-4268-9f08-7b8e778fa34d')\"\n",
              "            title=\"Suggest charts\"\n",
              "            style=\"display:none;\">\n",
              "\n",
              "<svg xmlns=\"http://www.w3.org/2000/svg\" height=\"24px\"viewBox=\"0 0 24 24\"\n",
              "     width=\"24px\">\n",
              "    <g>\n",
              "        <path d=\"M19 3H5c-1.1 0-2 .9-2 2v14c0 1.1.9 2 2 2h14c1.1 0 2-.9 2-2V5c0-1.1-.9-2-2-2zM9 17H7v-7h2v7zm4 0h-2V7h2v10zm4 0h-2v-4h2v4z\"/>\n",
              "    </g>\n",
              "</svg>\n",
              "  </button>\n",
              "\n",
              "<style>\n",
              "  .colab-df-quickchart {\n",
              "      --bg-color: #E8F0FE;\n",
              "      --fill-color: #1967D2;\n",
              "      --hover-bg-color: #E2EBFA;\n",
              "      --hover-fill-color: #174EA6;\n",
              "      --disabled-fill-color: #AAA;\n",
              "      --disabled-bg-color: #DDD;\n",
              "  }\n",
              "\n",
              "  [theme=dark] .colab-df-quickchart {\n",
              "      --bg-color: #3B4455;\n",
              "      --fill-color: #D2E3FC;\n",
              "      --hover-bg-color: #434B5C;\n",
              "      --hover-fill-color: #FFFFFF;\n",
              "      --disabled-bg-color: #3B4455;\n",
              "      --disabled-fill-color: #666;\n",
              "  }\n",
              "\n",
              "  .colab-df-quickchart {\n",
              "    background-color: var(--bg-color);\n",
              "    border: none;\n",
              "    border-radius: 50%;\n",
              "    cursor: pointer;\n",
              "    display: none;\n",
              "    fill: var(--fill-color);\n",
              "    height: 32px;\n",
              "    padding: 0;\n",
              "    width: 32px;\n",
              "  }\n",
              "\n",
              "  .colab-df-quickchart:hover {\n",
              "    background-color: var(--hover-bg-color);\n",
              "    box-shadow: 0 1px 2px rgba(60, 64, 67, 0.3), 0 1px 3px 1px rgba(60, 64, 67, 0.15);\n",
              "    fill: var(--button-hover-fill-color);\n",
              "  }\n",
              "\n",
              "  .colab-df-quickchart-complete:disabled,\n",
              "  .colab-df-quickchart-complete:disabled:hover {\n",
              "    background-color: var(--disabled-bg-color);\n",
              "    fill: var(--disabled-fill-color);\n",
              "    box-shadow: none;\n",
              "  }\n",
              "\n",
              "  .colab-df-spinner {\n",
              "    border: 2px solid var(--fill-color);\n",
              "    border-color: transparent;\n",
              "    border-bottom-color: var(--fill-color);\n",
              "    animation:\n",
              "      spin 1s steps(1) infinite;\n",
              "  }\n",
              "\n",
              "  @keyframes spin {\n",
              "    0% {\n",
              "      border-color: transparent;\n",
              "      border-bottom-color: var(--fill-color);\n",
              "      border-left-color: var(--fill-color);\n",
              "    }\n",
              "    20% {\n",
              "      border-color: transparent;\n",
              "      border-left-color: var(--fill-color);\n",
              "      border-top-color: var(--fill-color);\n",
              "    }\n",
              "    30% {\n",
              "      border-color: transparent;\n",
              "      border-left-color: var(--fill-color);\n",
              "      border-top-color: var(--fill-color);\n",
              "      border-right-color: var(--fill-color);\n",
              "    }\n",
              "    40% {\n",
              "      border-color: transparent;\n",
              "      border-right-color: var(--fill-color);\n",
              "      border-top-color: var(--fill-color);\n",
              "    }\n",
              "    60% {\n",
              "      border-color: transparent;\n",
              "      border-right-color: var(--fill-color);\n",
              "    }\n",
              "    80% {\n",
              "      border-color: transparent;\n",
              "      border-right-color: var(--fill-color);\n",
              "      border-bottom-color: var(--fill-color);\n",
              "    }\n",
              "    90% {\n",
              "      border-color: transparent;\n",
              "      border-bottom-color: var(--fill-color);\n",
              "    }\n",
              "  }\n",
              "</style>\n",
              "\n",
              "  <script>\n",
              "    async function quickchart(key) {\n",
              "      const quickchartButtonEl =\n",
              "        document.querySelector('#' + key + ' button');\n",
              "      quickchartButtonEl.disabled = true;  // To prevent multiple clicks.\n",
              "      quickchartButtonEl.classList.add('colab-df-spinner');\n",
              "      try {\n",
              "        const charts = await google.colab.kernel.invokeFunction(\n",
              "            'suggestCharts', [key], {});\n",
              "      } catch (error) {\n",
              "        console.error('Error during call to suggestCharts:', error);\n",
              "      }\n",
              "      quickchartButtonEl.classList.remove('colab-df-spinner');\n",
              "      quickchartButtonEl.classList.add('colab-df-quickchart-complete');\n",
              "    }\n",
              "    (() => {\n",
              "      let quickchartButtonEl =\n",
              "        document.querySelector('#df-51ae0de6-b943-4268-9f08-7b8e778fa34d button');\n",
              "      quickchartButtonEl.style.display =\n",
              "        google.colab.kernel.accessAllowed ? 'block' : 'none';\n",
              "    })();\n",
              "  </script>\n",
              "</div>\n",
              "    </div>\n",
              "  </div>\n"
            ],
            "text/plain": [
              "         Date      Open      High       Low     Close  Adj Close   Volume\n",
              "0  1972-08-25  0.063477  0.064697  0.063477  0.064453   0.036175  2508800\n",
              "1  1972-08-28  0.064453  0.064941  0.064209  0.064209   0.036038   972800\n",
              "2  1972-08-29  0.063965  0.063965  0.063477  0.063477   0.035627  1945600\n",
              "3  1972-08-30  0.063477  0.063477  0.062988  0.063477   0.035627   409600\n",
              "4  1972-08-31  0.062988  0.062988  0.062500  0.062500   0.035079   870400"
            ]
          },
          "execution_count": 69,
          "metadata": {},
          "output_type": "execute_result"
        }
      ],
      "source": [
        "df = pd.read_csv(f'{base_dir}/WMT.csv')\n",
        "df.head()"
      ]
    },
    {
      "cell_type": "code",
      "execution_count": null,
      "metadata": {
        "colab": {
          "base_uri": "https://localhost:8080/"
        },
        "id": "3TWomhtdlp4g",
        "outputId": "bba8cb57-73ed-4e29-ca69-530c53575f63"
      },
      "outputs": [
        {
          "data": {
            "text/plain": [
              "(12566, 7)"
            ]
          },
          "execution_count": 70,
          "metadata": {},
          "output_type": "execute_result"
        }
      ],
      "source": [
        "df.shape"
      ]
    },
    {
      "cell_type": "code",
      "execution_count": null,
      "metadata": {
        "colab": {
          "base_uri": "https://localhost:8080/"
        },
        "id": "PGfjK43hoyzd",
        "outputId": "898dab93-5cf4-464f-8b3c-c1c3b6827a21"
      },
      "outputs": [
        {
          "data": {
            "text/plain": [
              "0          0.063477\n",
              "1          0.064453\n",
              "2          0.063965\n",
              "3          0.063477\n",
              "4          0.062988\n",
              "            ...    \n",
              "12561    120.019997\n",
              "12562    118.300003\n",
              "12563    122.099998\n",
              "12564    121.750000\n",
              "12565    124.089996\n",
              "Name: Open, Length: 12566, dtype: float64"
            ]
          },
          "execution_count": 71,
          "metadata": {},
          "output_type": "execute_result"
        }
      ],
      "source": [
        "df.isnull().sum()\n",
        "df['Open']"
      ]
    },
    {
      "cell_type": "code",
      "execution_count": null,
      "metadata": {
        "id": "gb_ktqJ84wQJ"
      },
      "outputs": [],
      "source": [
        "df = df[['Date','Open']]"
      ]
    },
    {
      "cell_type": "code",
      "execution_count": null,
      "metadata": {
        "colab": {
          "base_uri": "https://localhost:8080/",
          "height": 476
        },
        "id": "LbulTjTArFuh",
        "outputId": "0489c6f6-078f-43a9-fbdf-2e983175415a"
      },
      "outputs": [
        {
          "data": {
            "image/png": "[encoded data removed]",
            "text/plain": [
              "<Figure size 1500x500 with 1 Axes>"
            ]
          },
          "metadata": {},
          "output_type": "display_data"
        }
      ],
      "source": [
        "dates = df['Date'].values\n",
        "open_prices  = df['Open'].values\n",
        "\n",
        "\n",
        "plt.figure(figsize=(15,5))\n",
        "plt.plot(dates, open_prices)\n",
        "plt.title('Harga Rata - Rata Saham Awal Walmart',\n",
        "          fontsize=20);"
      ]
    },
    {
      "cell_type": "code",
      "execution_count": null,
      "metadata": {
        "colab": {
          "base_uri": "https://localhost:8080/"
        },
        "id": "2UcZF4hfsTwl",
        "outputId": "bf322de5-584b-457b-af32-a793b57823d1"
      },
      "outputs": [
        {
          "data": {
            "text/plain": [
              "(12566, 1)"
            ]
          },
          "execution_count": 74,
          "metadata": {},
          "output_type": "execute_result"
        }
      ],
      "source": [
        "from sklearn.preprocessing import MinMaxScaler\n",
        "def reshape_column_to_2d(df, column_name):\n",
        "    column_data = df[column_name].values.reshape(-1, 1)\n",
        "    min_max_scaler = MinMaxScaler()\n",
        "    column_normalized = min_max_scaler.fit_transform(column_data)\n",
        "    return column_normalized\n",
        "\n",
        "open_prices = reshape_column_to_2d(df, 'Open')\n",
        "open_prices.shape"
      ]
    },
    {
      "cell_type": "code",
      "execution_count": null,
      "metadata": {
        "colab": {
          "base_uri": "https://localhost:8080/"
        },
        "id": "OlY-FxL8y665",
        "outputId": "ab65707c-be7f-4c65-ae08-6d84a9a22b6d"
      },
      "outputs": [
        {
          "data": {
            "text/plain": [
              "array([[2.98637543e-04],\n",
              "       [3.04728620e-04],\n",
              "       [3.01683081e-04],\n",
              "       ...,\n",
              "       [7.61911250e-01],\n",
              "       [7.59726962e-01],\n",
              "       [7.74330545e-01]])"
            ]
          },
          "execution_count": 75,
          "metadata": {},
          "output_type": "execute_result"
        }
      ],
      "source": [
        "open_prices"
      ]
    },
    {
      "cell_type": "code",
      "execution_count": null,
      "metadata": {
        "colab": {
          "base_uri": "https://localhost:8080/"
        },
        "id": "UTSi64YkFeuX",
        "outputId": "e07d3500-5396-4027-8305-47c58f84da58"
      },
      "outputs": [
        {
          "data": {
            "text/plain": [
              "0.1"
            ]
          },
          "execution_count": 76,
          "metadata": {},
          "output_type": "execute_result"
        }
      ],
      "source": [
        "threshold_mae = (open_prices.max() - open_prices.min()) * 10/100\n",
        "threshold_mae"
      ]
    },
    {
      "cell_type": "code",
      "execution_count": null,
      "metadata": {
        "id": "kaA_ck4SFzAo"
      },
      "outputs": [],
      "source": [
        "def windowed_dataset(series, window_size, batch_size, shuffle_buffer):\n",
        "    series = tf.expand_dims(series, axis=-1)\n",
        "    ds = tf.data.Dataset.from_tensor_slices(series)\n",
        "    ds = ds.window(window_size + 1, shift=1, drop_remainder=True)\n",
        "    ds = ds.flat_map(lambda w: w.batch(window_size + 1))\n",
        "    ds = ds.shuffle(shuffle_buffer)\n",
        "    ds = ds.map(lambda w: (w[:-1], w[-1:]))\n",
        "    return ds.batch(batch_size).prefetch(1)"
      ]
    },
    {
      "cell_type": "code",
      "execution_count": null,
      "metadata": {
        "id": "ZQT6zAhmIHib"
      },
      "outputs": [],
      "source": [
        "from sklearn.model_selection import train_test_split\n",
        "train_dates, val_dates, train_open_prices, val_open_prices = train_test_split(dates, open_prices, test_size=0.2, shuffle=False)"
      ]
    },
    {
      "cell_type": "code",
      "execution_count": null,
      "metadata": {
        "id": "0yeCZpQdHDPG"
      },
      "outputs": [],
      "source": [
        "train_set = windowed_dataset(train_open_prices, window_size=100, batch_size=100, shuffle_buffer=1000)\n",
        "val_set = windowed_dataset(val_open_prices, window_size=100, batch_size=100, shuffle_buffer=1000)"
      ]
    },
    {
      "cell_type": "code",
      "execution_count": null,
      "metadata": {
        "id": "Tc9B3fw-F0lu"
      },
      "outputs": [],
      "source": [
        "model = tf.keras.models.Sequential([\n",
        "    tf.keras.layers.LSTM(128, return_sequences=True, input_shape=(100, 1)),\n",
        "    tf.keras.layers.Dropout(0.2),\n",
        "    tf.keras.layers.LSTM(128,return_sequences=True),\n",
        "    tf.keras.layers.Dropout(0.2),\n",
        "    tf.keras.layers.Dense(128, activation=\"relu\"),\n",
        "    tf.keras.layers.Dense(64, activation=\"relu\"),\n",
        "    tf.keras.layers.Dense(1),\n",
        "])\n"
      ]
    },
    {
      "cell_type": "code",
      "execution_count": null,
      "metadata": {
        "id": "yBHB5OwxJHme"
      },
      "outputs": [],
      "source": [
        "early_stopping = tf.keras.callbacks.EarlyStopping(monitor='val_loss', patience=5)"
      ]
    },
    {
      "cell_type": "code",
      "execution_count": null,
      "metadata": {
        "id": "g0_jDHyQMEu1"
      },
      "outputs": [],
      "source": [
        "class CustomCallbackClass(tf.keras.callbacks.Callback):\n",
        "    def __init__(self, threshold):\n",
        "        super(CustomCallbackClass, self).__init__()\n",
        "        self.threshold = threshold\n",
        "\n",
        "    def on_epoch_end(self, epoch, logs=None):\n",
        "        if logs.get('mae') < self.threshold:\n",
        "            print(\"\\nMAE telah kurang dari 10% skala data, sehingga training model dihentikan.\")\n",
        "            self.model.stop_training = True"
      ]
    },
    {
      "cell_type": "code",
      "execution_count": null,
      "metadata": {
        "id": "0r4KqFGXMXME"
      },
      "outputs": [],
      "source": [
        "mae_threshold_callback = CustomCallbackClass(threshold_mae)"
      ]
    },
    {
      "cell_type": "code",
      "execution_count": null,
      "metadata": {
        "colab": {
          "background_save": true,
          "base_uri": "https://localhost:8080/"
        },
        "id": "YqryuuRwF3Qy",
        "outputId": "7f7be763-8e4a-4115-ec1c-442c5514b496"
      },
      "outputs": [
        {
          "name": "stdout",
          "output_type": "stream",
          "text": [
            "Epoch 1/100\n",
            "100/100 [==============================] - 12s 68ms/step - loss: 0.0178 - mae: 0.1292 - val_loss: 0.1769 - val_mae: 0.5691\n",
            "Epoch 2/100\n",
            "100/100 [==============================] - 4s 40ms/step - loss: 0.0139 - mae: 0.1161 - val_loss: 0.1560 - val_mae: 0.5314\n",
            "Epoch 3/100\n",
            "100/100 [==============================] - 5s 47ms/step - loss: 0.0116 - mae: 0.1129 - val_loss: 0.1412 - val_mae: 0.5031\n",
            "Epoch 4/100\n",
            "100/100 [==============================] - 5s 47ms/step - loss: 0.0104 - mae: 0.1116 - val_loss: 0.1308 - val_mae: 0.4825\n",
            "Epoch 5/100\n",
            "100/100 [==============================] - 5s 45ms/step - loss: 0.0097 - mae: 0.1125 - val_loss: 0.1233 - val_mae: 0.4671\n",
            "Epoch 6/100\n",
            "100/100 [==============================] - 6s 58ms/step - loss: 0.0092 - mae: 0.1134 - val_loss: 0.1176 - val_mae: 0.4552\n",
            "Epoch 7/100\n",
            "100/100 [==============================] - 4s 40ms/step - loss: 0.0088 - mae: 0.1137 - val_loss: 0.1131 - val_mae: 0.4455\n",
            "Epoch 8/100\n",
            "100/100 [==============================] - 4s 40ms/step - loss: 0.0085 - mae: 0.1134 - val_loss: 0.1095 - val_mae: 0.4376\n",
            "Epoch 9/100\n",
            "100/100 [==============================] - 6s 62ms/step - loss: 0.0083 - mae: 0.1127 - val_loss: 0.1065 - val_mae: 0.4309\n",
            "Epoch 10/100\n",
            "100/100 [==============================] - 4s 39ms/step - loss: 0.0080 - mae: 0.1119 - val_loss: 0.1039 - val_mae: 0.4250\n",
            "Epoch 11/100\n",
            "100/100 [==============================] - 5s 47ms/step - loss: 0.0078 - mae: 0.1109 - val_loss: 0.1016 - val_mae: 0.4196\n",
            "Epoch 12/100\n",
            "100/100 [==============================] - 4s 40ms/step - loss: 0.0076 - mae: 0.1100 - val_loss: 0.0995 - val_mae: 0.4146\n",
            "Epoch 13/100\n",
            "100/100 [==============================] - 6s 59ms/step - loss: 0.0075 - mae: 0.1091 - val_loss: 0.0975 - val_mae: 0.4100\n",
            "Epoch 14/100\n",
            "100/100 [==============================] - 4s 40ms/step - loss: 0.0073 - mae: 0.1084 - val_loss: 0.0957 - val_mae: 0.4057\n",
            "Epoch 15/100\n",
            "100/100 [==============================] - 4s 40ms/step - loss: 0.0072 - mae: 0.1078 - val_loss: 0.0941 - val_mae: 0.4018\n",
            "Epoch 16/100\n",
            "100/100 [==============================] - 6s 60ms/step - loss: 0.0071 - mae: 0.1072 - val_loss: 0.0927 - val_mae: 0.3983\n",
            "Epoch 17/100\n",
            "100/100 [==============================] - 4s 40ms/step - loss: 0.0070 - mae: 0.1067 - val_loss: 0.0913 - val_mae: 0.3951\n",
            "Epoch 18/100\n",
            "100/100 [==============================] - 6s 61ms/step - loss: 0.0069 - mae: 0.1062 - val_loss: 0.0901 - val_mae: 0.3922\n",
            "Epoch 19/100\n",
            "100/100 [==============================] - 4s 40ms/step - loss: 0.0068 - mae: 0.1057 - val_loss: 0.0890 - val_mae: 0.3895\n",
            "Epoch 20/100\n",
            "100/100 [==============================] - 6s 58ms/step - loss: 0.0067 - mae: 0.1052 - val_loss: 0.0879 - val_mae: 0.3869\n",
            "Epoch 21/100\n",
            "100/100 [==============================] - 5s 45ms/step - loss: 0.0067 - mae: 0.1047 - val_loss: 0.0869 - val_mae: 0.3845\n",
            "Epoch 22/100\n",
            "100/100 [==============================] - 4s 40ms/step - loss: 0.0066 - mae: 0.1042 - val_loss: 0.0860 - val_mae: 0.3822\n",
            "Epoch 23/100\n",
            "100/100 [==============================] - 7s 67ms/step - loss: 0.0065 - mae: 0.1037 - val_loss: 0.0851 - val_mae: 0.3800\n",
            "Epoch 24/100\n",
            "100/100 [==============================] - 4s 40ms/step - loss: 0.0065 - mae: 0.1032 - val_loss: 0.0843 - val_mae: 0.3780\n",
            "Epoch 25/100\n",
            "100/100 [==============================] - 6s 57ms/step - loss: 0.0064 - mae: 0.1027 - val_loss: 0.0835 - val_mae: 0.3760\n",
            "Epoch 26/100\n",
            "100/100 [==============================] - 7s 67ms/step - loss: 0.0063 - mae: 0.1022 - val_loss: 0.0827 - val_mae: 0.3741\n",
            "Epoch 27/100\n",
            "100/100 [==============================] - 6s 58ms/step - loss: 0.0063 - mae: 0.1017 - val_loss: 0.0820 - val_mae: 0.3723\n",
            "Epoch 28/100\n",
            "100/100 [==============================] - 4s 39ms/step - loss: 0.0062 - mae: 0.1012 - val_loss: 0.0813 - val_mae: 0.3705\n",
            "Epoch 29/100\n",
            "100/100 [==============================] - 4s 39ms/step - loss: 0.0061 - mae: 0.1007 - val_loss: 0.0806 - val_mae: 0.3687\n",
            "Epoch 30/100\n",
            "100/100 [==============================] - 6s 58ms/step - loss: 0.0061 - mae: 0.1002 - val_loss: 0.0799 - val_mae: 0.3670\n",
            "Epoch 31/100\n",
            " 98/100 [============================>.] - ETA: 0s - loss: 0.0059 - mae: 0.0990\n",
            "MAE telah kurang dari 10% skala data, sehingga training model dihentikan.\n",
            "100/100 [==============================] - 4s 38ms/step - loss: 0.0060 - mae: 0.0997 - val_loss: 0.0793 - val_mae: 0.3654\n"
          ]
        }
      ],
      "source": [
        "optimizer = tf.keras.optimizers.SGD(learning_rate=1.0000e-04, momentum=0.9)\n",
        "model.compile(loss=tf.keras.losses.Huber(),\n",
        "              optimizer=optimizer,\n",
        "              metrics=[\"mae\"])\n",
        "history = model.fit(train_set,epochs=100, validation_data=val_set, callbacks=[early_stopping,mae_threshold_callback], verbose=1)"
      ]
    },
    {
      "cell_type": "code",
      "execution_count": null,
      "metadata": {
        "colab": {
          "background_save": true
        },
        "id": "XKh1yQa0F5jL",
        "outputId": "68c437d2-d36f-4242-853a-4d38af5aa694"
      },
      "outputs": [
        {
          "data": {
            "image/png": "[encoded data removed]",
            "text/plain": [
              "<Figure size 640x480 with 1 Axes>"
            ]
          },
          "metadata": {},
          "output_type": "display_data"
        }
      ],
      "source": [
        "import matplotlib.pyplot as plt\n",
        "plt.plot(history.history['loss'])\n",
        "plt.plot(history.history['val_loss'])\n",
        "plt.title('Model Loss')\n",
        "plt.ylabel('Loss')\n",
        "plt.xlabel('Epochs')\n",
        "plt.legend(['train', 'test'], loc = 'upper right')\n",
        "plt.show()"
      ]
    },
    {
      "cell_type": "code",
      "execution_count": null,
      "metadata": {
        "colab": {
          "background_save": true
        },
        "id": "Kym1oC0EF7bz",
        "outputId": "86a95d4a-9d27-4eae-d2f9-b98a4d02f6f7"
      },
      "outputs": [
        {
          "data": {
            "image/png": "[encoded data removed]",
            "text/plain": [
              "<Figure size 640x480 with 1 Axes>"
            ]
          },
          "metadata": {},
          "output_type": "display_data"
        }
      ],
      "source": [
        "plt.plot(history.history['mae'])\n",
        "plt.plot(history.history['val_mae'])\n",
        "plt.title('Model Mae')\n",
        "plt.ylabel('Mae')\n",
        "plt.xlabel('Epoch')\n",
        "plt.legend(['train', 'test'], loc='lower right')\n",
        "plt.show()"
      ]
    }
  ],
  "metadata": {
    "accelerator": "GPU",
    "colab": {
      "provenance": []
    },
    "kernelspec": {
      "display_name": "Python 3",
      "name": "python3"
    },
    "language_info": {
      "name": "python"
    }
  },
  "nbformat": 4,
  "nbformat_minor": 0
}